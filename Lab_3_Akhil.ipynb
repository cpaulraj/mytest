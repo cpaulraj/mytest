{
  "nbformat": 4,
  "nbformat_minor": 0,
  "metadata": {
    "colab": {
      "name": "Lab 3 Akhil.ipynb",
      "provenance": [],
      "collapsed_sections": [],
      "include_colab_link": true
    },
    "kernelspec": {
      "name": "python3",
      "display_name": "Python 3"
    },
    "language_info": {
      "name": "python"
    }
  },
  "cells": [
    {
      "cell_type": "markdown",
      "metadata": {
        "id": "view-in-github",
        "colab_type": "text"
      },
      "source": [
        "<a href=\"https://colab.research.google.com/github/cpaulraj/mytest/blob/master/Lab_3_Akhil.ipynb\" target=\"_parent\"><img src=\"https://colab.research.google.com/assets/colab-badge.svg\" alt=\"Open In Colab\"/></a>"
      ]
    },
    {
      "cell_type": "markdown",
      "metadata": {
        "id": "dbx5hDitB7q4"
      },
      "source": [
        "# Importing data\n",
        "\n",
        "This notebook demonstrated how to import data from a google sheet into a `numpy` array.\n"
      ]
    },
    {
      "cell_type": "markdown",
      "metadata": {
        "id": "8zIkll_ECYlS"
      },
      "source": [
        "Start by running the following 3 code cells. The only modification is in the 2nd cell to change the path.\n",
        "\n",
        "Of course, make sure your google sheet with the data is in the same google drive folder as this colab notebook."
      ]
    },
    {
      "cell_type": "code",
      "metadata": {
        "id": "oO7QL_UZVhHZ"
      },
      "source": [
        "# Import statements\n",
        "import numpy as np\n",
        "import matplotlib.pyplot as plt \n",
        "import scipy.optimize as opt\n",
        "from google.colab import drive, auth\n",
        "import gspread\n",
        "from oauth2client.client import GoogleCredentials"
      ],
      "execution_count": null,
      "outputs": []
    },
    {
      "cell_type": "code",
      "metadata": {
        "id": "y5NAWWmCxr6P",
        "colab": {
          "base_uri": "https://localhost:8080/"
        },
        "outputId": "23a4756e-e843-447c-b09b-10c0a0a80da5"
      },
      "source": [
        "drive.mount('/content/gdrive')\n",
        "\n",
        "# Modify this line to include your specific path.\n",
        "%cd gdrive/MyDrive/PHY105/Lab3    "
      ],
      "execution_count": null,
      "outputs": [
        {
          "output_type": "stream",
          "name": "stdout",
          "text": [
            "Mounted at /content/gdrive\n",
            "[Errno 2] No such file or directory: 'gdrive/MyDrive/PHY105/Lab3'\n",
            "/content\n"
          ]
        }
      ]
    },
    {
      "cell_type": "markdown",
      "metadata": {
        "id": "zh1qNEB2ETC7"
      },
      "source": [
        ""
      ]
    },
    {
      "cell_type": "code",
      "metadata": {
        "id": "WiRE8fTtXRML"
      },
      "source": [
        "# One more authentication\n",
        "auth.authenticate_user()\n",
        "gc = gspread.authorize(GoogleCredentials.get_application_default())"
      ],
      "execution_count": null,
      "outputs": []
    },
    {
      "cell_type": "markdown",
      "metadata": {
        "id": "_WJpoTkwdK6c"
      },
      "source": [
        "The above code cells need to be executed just once.\n",
        "\n",
        "The below cell should be copy-pasted and modified for each google sheet you want to import. You should change the name of your array when you do, e.g. `data2`, `t2`, `y2` so you don't overwrite your previous data, and so you can keep track of which data/figure corresponds to which experimental run."
      ]
    },
    {
      "cell_type": "code",
      "metadata": {
        "id": "KYGXkjvp6AmX",
        "colab": {
          "base_uri": "https://localhost:8080/"
        },
        "outputId": "62ab3aaf-7354-4c74-9b45-4a77b87f29d8"
      },
      "source": [
        "# Open the google sheet\n",
        "worksheet = gc.open('Lab 3 Data').worksheet('Orange Mass for Python')  # Replace with your google sheet name.\n",
        "\n",
        "# Convert data to numpy array\n",
        "rows = worksheet.get_all_values()\n",
        "data_str = np.array(rows)\n",
        "#print(data_str)\n",
        "data1 = data_str.astype(np.float)    # data1 is a numpy array of the data in the sheet\n",
        "\n",
        "data1.shape   # check that the shape of your array is what you expect."
      ],
      "execution_count": null,
      "outputs": [
        {
          "output_type": "execute_result",
          "data": {
            "text/plain": [
              "(186, 2)"
            ]
          },
          "metadata": {},
          "execution_count": 4
        }
      ]
    },
    {
      "cell_type": "markdown",
      "metadata": {
        "id": "NF7AJ1-jCr9P"
      },
      "source": [
        "From here on, you should use whatever analysis methods you think are most appropriate. \n",
        "\n",
        "Feel free to use modified code from any previous lab if there is a similar series of steps you want to carry out."
      ]
    },
    {
      "cell_type": "code",
      "metadata": {
        "colab": {
          "base_uri": "https://localhost:8080/",
          "height": 320
        },
        "id": "RlJrON7XG91w",
        "outputId": "4a7351ce-0c42-4d23-9f9c-1aab22f56bbf"
      },
      "source": [
        "truncateddata = []\n",
        "counter = 0\n",
        "for i in data1:\n",
        "  if(counter%4 == 0):\n",
        "    truncateddata.append(i[0])\n",
        "  counter += 1\n",
        "\n",
        "#print(data1)\n",
        "print(truncateddata)\n",
        "xaxis = np.arange(len(truncateddata))\n",
        "\n",
        "def model(t, m, c) :    # include the correct number of parameters here.\n",
        "  return m*t + c   # replace quadratic model with your model.\n",
        "\n",
        "# first guess at parameter values. Once again, include guesses for all parameters.\n",
        "m_guess = 2.80\n",
        "c_guess = 0\n",
        "\n",
        "# This is the optimization step, where the \"magic\" happens. \n",
        "# most of this code remains as-is, you just need to include the correct number of parameters everywhere\n",
        "pars, pcov = opt.curve_fit(model, xaxis, truncateddata, p0=[m_guess, c_guess])\n",
        "m_best, c_best = pars[0], pars[1]\n",
        "# the best-fit parameters are now called A_best, B_best, and C_best\n",
        "\n",
        "# construct model with best-fit parameters\n",
        "Best_fit = model(xaxis, m_best, c_best)\n",
        "\n",
        "plt.plot(xaxis,truncateddata,'.')\n",
        "plt.plot(xaxis,Best_fit,'-')\n",
        "\n",
        "print(m_best)\n",
        "T_orange = m_best\n",
        "orange_std = np.sqrt(pcov[0][0])"
      ],
      "execution_count": null,
      "outputs": [
        {
          "output_type": "stream",
          "name": "stdout",
          "text": [
            "[0.0, 2.790487, 5.583353, 8.374367, 11.166492, 13.956778, 16.748871, 19.539214, 22.33106, 25.121153, 27.912342, 30.703015, 33.493264, 36.284492, 39.073987, 41.865156, 44.654223, 47.445152, 50.23421, 53.024891, 55.813573, 58.60391, 61.393018, 64.182494, 66.972361, 69.760923, 72.551091, 75.339382, 78.129429, 80.917441, 83.707376, 86.495386, 89.285111, 92.073246, 94.862387, 97.651182, 100.439589, 103.229002, 106.016789, 108.806329, 111.593949, 114.38337, 117.170636, 119.959942, 122.747194, 125.535944, 128.323556]\n",
            "2.789587792949733\n"
          ]
        },
        {
          "output_type": "display_data",
          "data": {
            "image/png": "[encoded data removed]",
            "text/plain": [
              "<Figure size 432x288 with 1 Axes>"
            ]
          },
          "metadata": {
            "needs_background": "light"
          }
        }
      ]
    },
    {
      "cell_type": "code",
      "metadata": {
        "colab": {
          "base_uri": "https://localhost:8080/"
        },
        "id": "SypJ3ocJKzWN",
        "outputId": "97db9397-de09-43ce-adb9-488a7c80260b"
      },
      "source": [
        "# finding min and max deviation from the mean for orange mass periods\n",
        "differences = []\n",
        "for i in range(1, len(truncateddata)-1):\n",
        "  differences.append(truncateddata[i] - truncateddata[i-1])\n",
        "\n",
        "differences = np.array(differences)\n",
        "print(differences)\n",
        "min = np.min(differences)\n",
        "max = np.max(differences)\n",
        "print(min)\n",
        "print(max)\n",
        "print(max - T_orange)\n",
        "print(T_orange - min)"
      ],
      "execution_count": null,
      "outputs": [
        {
          "output_type": "stream",
          "name": "stdout",
          "text": [
            "[2.790487 2.792866 2.791014 2.792125 2.790286 2.792093 2.790343 2.791846\n",
            " 2.790093 2.791189 2.790673 2.790249 2.791228 2.789495 2.791169 2.789067\n",
            " 2.790929 2.789058 2.790681 2.788682 2.790337 2.789108 2.789476 2.789867\n",
            " 2.788562 2.790168 2.788291 2.790047 2.788012 2.789935 2.78801  2.789725\n",
            " 2.788135 2.789141 2.788795 2.788407 2.789413 2.787787 2.78954  2.78762\n",
            " 2.789421 2.787266 2.789306 2.787252 2.78875 ]\n",
            "2.787251999999995\n",
            "2.7928659999999996\n",
            "0.0032782070502666016\n",
            "0.002335792949737847\n"
          ]
        }
      ]
    },
    {
      "cell_type": "code",
      "metadata": {
        "colab": {
          "base_uri": "https://localhost:8080/"
        },
        "id": "W5T_IBGRLo3L",
        "outputId": "cf00c9ad-7dcc-4593-8e57-cf79bd2f20ac"
      },
      "source": [
        "# Open the google sheet\n",
        "worksheet = gc.open('Lab 3 Data').worksheet('Brass Mass for Python')  # Replace with your google sheet name.\n",
        "\n",
        "# Convert data to numpy array\n",
        "rows2 = worksheet.get_all_values()\n",
        "data_str2 = np.array(rows2)\n",
        "#print(data_str)\n",
        "data2 = data_str2.astype(np.float)    # data1 is a numpy array of the data in the sheet\n",
        "\n",
        "data2.shape   # check that the shape of your array is what you expect."
      ],
      "execution_count": null,
      "outputs": [
        {
          "output_type": "execute_result",
          "data": {
            "text/plain": [
              "(124, 2)"
            ]
          },
          "metadata": {},
          "execution_count": 6
        }
      ]
    },
    {
      "cell_type": "code",
      "metadata": {
        "colab": {
          "base_uri": "https://localhost:8080/",
          "height": 320
        },
        "id": "N3Wgd6KrL6mh",
        "outputId": "406a1004-1e29-4d9a-9fa6-9fdec5c50d7d"
      },
      "source": [
        "truncateddata2 = []\n",
        "counter = 0\n",
        "for i in data2:\n",
        "  if(counter%4 == 0):\n",
        "    truncateddata2.append(i[0])\n",
        "  counter += 1\n",
        "\n",
        "#print(data1)\n",
        "print(truncateddata2)\n",
        "xaxis = np.arange(len(truncateddata2))\n",
        "\n",
        "def model(t, m, c) :    # include the correct number of parameters here.\n",
        "  return m*t + c   # replace quadratic model with your model.\n",
        "\n",
        "# first guess at parameter values. Once again, include guesses for all parameters.\n",
        "m_guess = 2.80\n",
        "c_guess = 0\n",
        "\n",
        "# This is the optimization step, where the \"magic\" happens. \n",
        "# most of this code remains as-is, you just need to include the correct number of parameters everywhere\n",
        "pars, pcov = opt.curve_fit(model, xaxis, truncateddata2, p0=[m_guess, c_guess])\n",
        "m_best, c_best = pars[0], pars[1]\n",
        "# the best-fit parameters are now called A_best, B_best, and C_best\n",
        "\n",
        "# construct model with best-fit parameters\n",
        "Best_fit = model(xaxis, m_best, c_best)\n",
        "\n",
        "plt.plot(xaxis,truncateddata2,'.')\n",
        "plt.plot(xaxis,Best_fit,'-')\n",
        "\n",
        "print(m_best)\n",
        "T_brass = m_best\n",
        "brass_std = np.sqrt(pcov[0][0])"
      ],
      "execution_count": null,
      "outputs": [
        {
          "output_type": "stream",
          "name": "stdout",
          "text": [
            "[0.0, 2.788927, 5.575296, 8.362318, 11.148497, 13.935994, 16.721387, 19.508324, 22.294483, 25.080336, 27.867274, 30.652571, 33.439312, 36.224255, 39.010735, 41.795796, 44.581519, 47.367394, 50.15231, 52.938526, 55.723056, 58.509217, 61.293627, 64.079308, 66.863996, 69.649037, 72.43443, 75.21866, 78.004365, 80.788198, 83.573725]\n",
            "2.7857108049087826\n"
          ]
        },
        {
          "output_type": "display_data",
          "data": {
            "image/png": "[encoded data removed]",
            "text/plain": [
              "<Figure size 432x288 with 1 Axes>"
            ]
          },
          "metadata": {
            "needs_background": "light"
          }
        }
      ]
    },
    {
      "cell_type": "code",
      "metadata": {
        "colab": {
          "base_uri": "https://localhost:8080/"
        },
        "id": "JYL8l3KBMMNP",
        "outputId": "edc850ab-615d-4557-cc11-a9b31c12951a"
      },
      "source": [
        "def gfunc (T, l):\n",
        "  return (2*np.pi/T)**2 * l\n",
        "length = 1.907\n",
        "lengthstd = 0.005\n",
        "print(\"mean g orange brass respectively\")\n",
        "print(gfunc(T_orange, length))\n",
        "print(gfunc(T_brass, length))\n",
        "gmax_orange = gfunc(T_orange - orange_std, length + lengthstd)\n",
        "gmin_orange = gfunc(T_orange + orange_std, length - lengthstd)\n",
        "gmax_brass = gfunc(T_brass - brass_std, length + lengthstd)\n",
        "gmin_brass = gfunc(T_brass + brass_std, length - lengthstd)\n",
        "print(\"orange min/max\")\n",
        "print(gmax_orange)\n",
        "print(gmin_orange)\n",
        "print(\"brass min/max\")\n",
        "print(gmax_brass)\n",
        "print(gmin_brass)"
      ],
      "execution_count": null,
      "outputs": [
        {
          "output_type": "stream",
          "name": "stdout",
          "text": [
            "mean g orange brass respectively\n",
            "9.674540831623744\n",
            "9.70148848161396\n",
            "orange min/max\n",
            "9.700408462984557\n",
            "9.648675863292272\n",
            "brass min/max\n",
            "9.727337448221158\n",
            "9.675641698252086\n"
          ]
        }
      ]
    },
    {
      "cell_type": "code",
      "metadata": {
        "colab": {
          "base_uri": "https://localhost:8080/"
        },
        "id": "-HO2LN5tXdOq",
        "outputId": "d94276cb-cc51-41aa-8107-0d0171e17224"
      },
      "source": [
        "# moment of inertia calculation:\n",
        "R = .0259\n",
        "L = .075\n",
        "D = 1.907\n",
        "orangeI = 1/4 * 1.2152 * R**2 + 1/12 * 1.2152 * L**2 + 1.2152 * D**2\n",
        "brassI = 1/4 * 1.3067 * R**2 + 1/12 * 1.3067 * L**2 + 1.3067 * D**2\n",
        "print(orangeI)"
      ],
      "execution_count": null,
      "outputs": [
        {
          "output_type": "stream",
          "name": "stdout",
          "text": [
            "4.4200292818780005\n"
          ]
        }
      ]
    },
    {
      "cell_type": "code",
      "metadata": {
        "colab": {
          "base_uri": "https://localhost:8080/"
        },
        "id": "6zxQvDMA_Bj8",
        "outputId": "b58db262-2da5-43e9-e36c-c360202b1f89"
      },
      "source": [
        "# new values for T\n",
        "\n",
        "T_orange_corrected =  T_orange / 1.00430\n",
        "T_brass_corrected = T_brass / 1.00430\n",
        "cm_brass = 1.903792979\n",
        "cm_orange = 1.902371128\n",
        "totalmass_brass = 1.3117\n",
        "totalmass_orange = 1.2202\n",
        "totalI_brass = 4.761161271\n",
        "totalI_orange = 4.422346972\n",
        "\n",
        "def gfunc_corrected (I, M, cm, T):\n",
        "  return (2*np.pi/T)**2 * I / (M * cm)\n",
        "\n",
        "g_orange = gfunc_corrected(totalI_orange, totalmass_orange, cm_orange, T_orange_corrected)\n",
        "g_brass = gfunc_corrected(totalI_brass, totalmass_brass, cm_brass, T_brass_corrected)\n",
        "print(g_brass)\n",
        "print(g_orange)"
      ],
      "execution_count": null,
      "outputs": [
        {
          "output_type": "stream",
          "name": "stdout",
          "text": [
            "9.78302712237912\n",
            "9.748395516826967\n"
          ]
        }
      ]
    },
    {
      "cell_type": "code",
      "metadata": {
        "id": "4rjT8anMXJBL"
      },
      "source": [
        "import numpy as np\n",
        "import matplotlib.pyplot as plt\n",
        "\n",
        "# example data\n",
        "x = np.arange(0.1, 4, 0.5)\n",
        "y = np.exp(-x)\n",
        "\n",
        "# example error bar values that vary with x-position\n",
        "error = 0.1 + 0.2 * x\n",
        "\n",
        "fig, (ax0, ax1) = plt.subplots(nrows=2, sharex=True)\n",
        "ax0.errorbar([0, 1], [9.67, 9.70], yerr=error, fmt='-o')\n",
        "ax0.set_title('variable, symmetric error')\n",
        "\n",
        "# error bar values w/ different -/+ errors that\n",
        "# also vary with the x-position\n",
        "lower_error = 0.4 * error\n",
        "upper_error = error\n",
        "asymmetric_error = [lower_error, upper_error]\n",
        "\n",
        "ax1.errorbar(x, y, xerr=asymmetric_error, fmt='o')\n",
        "ax1.set_title('variable, asymmetric error')\n",
        "ax1.set_yscale('log')\n",
        "plt.show()"
      ],
      "execution_count": null,
      "outputs": []
    }
  ]
}